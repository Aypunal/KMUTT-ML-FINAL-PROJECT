{
 "cells": [
  {
   "cell_type": "code",
   "execution_count": null,
   "id": "9fba8a32-8cef-41b8-8355-ec87cb6ab368",
   "metadata": {
    "execution": {
     "iopub.execute_input": "2025-04-23T21:18:20.117966Z",
     "iopub.status.busy": "2025-04-23T21:18:20.117427Z",
     "iopub.status.idle": "2025-04-23T21:18:27.710150Z",
     "shell.execute_reply": "2025-04-23T21:18:27.709616Z",
     "shell.execute_reply.started": "2025-04-23T21:18:20.117946Z"
    }
   },
   "outputs": [],
   "source": [
    "import os\n",
    "import pandas as pd\n",
    "import tensorflow as tf\n",
    "from tensorflow.keras.preprocessing.image import ImageDataGenerator\n",
    "from sklearn.model_selection import train_test_split\n",
    "\n",
    "fake_folder = 'ai_images'\n",
    "real_folder = 'real_images'\n",
    "\n",
    "fake_images = [os.path.join(fake_folder, f) for f in os.listdir(fake_folder)]\n",
    "real_images = [os.path.join(real_folder, f) for f in os.listdir(real_folder)]\n",
    "\n",
    "fake_labels = ['FAKE'] * len(fake_images)\n",
    "real_labels = ['REAL'] * len(real_images)\n",
    "\n",
    "\n",
    "df2 = pd.DataFrame({\n",
    "    'filepath': fake_images + real_images,\n",
    "    'label': fake_labels + real_labels\n",
    "})\n",
    "\n",
    "df_combined = pd.concat([df, df2], ignore_index=True)\n",
    "df_combined = df_combined.drop(columns=['Unnamed: 0','file_name'], errors='ignore')\n",
    "\n"
   ]
  },
  {
   "cell_type": "code",
   "execution_count": null,
   "id": "9e272d79-cc56-402b-b02d-b094ff232e45",
   "metadata": {
    "execution": {
     "iopub.execute_input": "2025-04-23T21:18:27.711434Z",
     "iopub.status.busy": "2025-04-23T21:18:27.711258Z",
     "iopub.status.idle": "2025-04-23T21:18:27.733946Z",
     "shell.execute_reply": "2025-04-23T21:18:27.733529Z",
     "shell.execute_reply.started": "2025-04-23T21:18:27.711419Z"
    }
   },
   "outputs": [
    {
     "name": "stdout",
     "output_type": "stream",
     "text": [
      "['FAKE' 'REAL']\n"
     ]
    },
    {
     "data": {
      "text/plain": [
       "label\n",
       "FAKE    63975\n",
       "REAL    63975\n",
       "Name: count, dtype: int64"
      ]
     },
     "execution_count": 2,
     "metadata": {},
     "output_type": "execute_result"
    }
   ],
   "source": [
    "df_combined['label'] = df_combined['label'].map({\n",
    "    0: 'REAL',       \n",
    "    1: 'FAKE',        \n",
    "    'REAL': 'REAL',  \n",
    "    'FAKE': 'FAKE'    \n",
    "})\n",
    "\n",
    "\n",
    "print(df_combined['label'].unique())  #['REAL' 'FAKE']\n",
    "df_combined.label.value_counts()"
   ]
  },
  {
   "cell_type": "code",
   "execution_count": 3,
   "id": "b7e0f810",
   "metadata": {},
   "outputs": [
    {
     "name": "stdout",
     "output_type": "stream",
     "text": [
      "Found 102360 validated image filenames belonging to 2 classes.\n",
      "Found 25590 validated image filenames belonging to 2 classes.\n"
     ]
    }
   ],
   "source": [
    "train_df, val_df = train_test_split(df_combined, test_size=0.2, random_state=42)\n",
    "datagen = ImageDataGenerator(\n",
    "    rescale=1./255,           \n",
    "    rotation_range=40,      \n",
    "    width_shift_range=0.2,    \n",
    "    height_shift_range=0.2,   \n",
    "    shear_range=0.2,          \n",
    "    zoom_range=0.2,           \n",
    "    horizontal_flip=True,     \n",
    "    fill_mode='nearest'      \n",
    ")\n",
    "\n",
    "train_generator = datagen.flow_from_dataframe(\n",
    "    dataframe=train_df,\n",
    "    x_col='filepath',  \n",
    "    y_col='label',    \n",
    "    target_size=(224, 224),\n",
    "    batch_size=32, # ajustable (better gpu > 64)\n",
    "    class_mode='binary'  \n",
    ")\n",
    "\n",
    "# validation\n",
    "val_generator = datagen.flow_from_dataframe(\n",
    "    dataframe=val_df,\n",
    "    x_col='filepath',\n",
    "    y_col='label',\n",
    "    target_size=(224, 224),\n",
    "    batch_size=32, # ajustable (better gpu > 64)\n",
    "    class_mode='binary'\n",
    ")"
   ]
  },
  {
   "cell_type": "code",
   "execution_count": 3,
   "id": "9856b2c9-b3e2-4113-a59d-6aa6078235c0",
   "metadata": {
    "execution": {
     "iopub.execute_input": "2025-04-23T21:19:04.526040Z",
     "iopub.status.busy": "2025-04-23T21:19:04.525884Z",
     "iopub.status.idle": "2025-04-23T21:19:04.770133Z",
     "shell.execute_reply": "2025-04-23T21:19:04.769599Z",
     "shell.execute_reply.started": "2025-04-23T21:19:04.526025Z"
    }
   },
   "outputs": [
    {
     "name": "stdout",
     "output_type": "stream",
     "text": [
      "Num GPUs Available:  1\n"
     ]
    }
   ],
   "source": [
    "import tensorflow as tf\n",
    "print(\"Num GPUs Available: \", len(tf.config.list_physical_devices('GPU'))) # check gpu available\n"
   ]
  },
  {
   "cell_type": "code",
   "execution_count": 4,
   "id": "0f51420c-6fb8-4eaf-9cb7-71ff811df5e6",
   "metadata": {
    "execution": {
     "iopub.execute_input": "2025-04-23T21:19:04.771924Z",
     "iopub.status.busy": "2025-04-23T21:19:04.771756Z",
     "iopub.status.idle": "2025-04-23T21:19:04.776141Z",
     "shell.execute_reply": "2025-04-23T21:19:04.775648Z",
     "shell.execute_reply.started": "2025-04-23T21:19:04.771909Z"
    }
   },
   "outputs": [
    {
     "name": "stdout",
     "output_type": "stream",
     "text": [
      "INFO:tensorflow:Mixed precision compatibility check (mixed_float16): OK\n",
      "Your GPU will likely run quickly with dtype policy mixed_float16 as it has compute capability of at least 7.0. Your GPU: NVIDIA GeForce GTX 1660 Ti, compute capability 7.5\n"
     ]
    }
   ],
   "source": [
    "from tensorflow.keras import mixed_precision\n",
    "\n",
    "policy = mixed_precision.Policy('mixed_float16') # reduce calculation size from float32 to 16\n",
    "mixed_precision.set_global_policy(policy)\n"
   ]
  },
  {
   "cell_type": "code",
   "execution_count": null,
   "id": "516abd81-9c56-4d05-acae-ad3b24abff92",
   "metadata": {
    "execution": {
     "iopub.execute_input": "2025-04-23T21:19:04.776888Z",
     "iopub.status.busy": "2025-04-23T21:19:04.776748Z",
     "iopub.status.idle": "2025-04-24T02:46:01.451572Z",
     "shell.execute_reply": "2025-04-24T02:46:01.450471Z",
     "shell.execute_reply.started": "2025-04-23T21:19:04.776874Z"
    }
   },
   "outputs": [],
   "source": [
    "from tensorflow.keras.callbacks import ReduceLROnPlateau, EarlyStopping\n",
    "from tensorflow.keras.optimizers import Adam\n",
    "from tensorflow.keras import layers, models, regularizers\n",
    "from tensorflow.keras.applications import MobileNetV2\n",
    "import matplotlib.pyplot as plt\n",
    "from sklearn.metrics import classification_report, confusion_matrix, ConfusionMatrixDisplay\n",
    "\n",
    "# Callbacks\n",
    "lr_schedule = ReduceLROnPlateau(monitor='val_loss', factor=0.5, patience=5, verbose=1, min_lr=1e-6)\n",
    "early_stop = EarlyStopping(monitor='val_loss', patience=8, restore_best_weights=True)\n",
    "\n",
    "# Model using MobileNetV2\n",
    "base_model = MobileNetV2(\n",
    "    input_shape=(224, 224, 3),\n",
    "    include_top=False,               # Exclude the top layer as we will add our own classifier\n",
    "    weights='imagenet'               # Load pre-trained weights from ImageNet\n",
    ")\n",
    "\n",
    "base_model.trainable = False  # Freeze base model layers for transfer learning\n",
    "\n",
    "# Model architecture\n",
    "inputs = layers.Input(shape=(224, 224, 3))\n",
    "x = base_model(inputs)  # Apply MobileNetV2 as the base feature extractor\n",
    "x = layers.GlobalAveragePooling2D()(x)  # Global average pooling to reduce the output size\n",
    "x = layers.Dense(256, activation='relu', kernel_regularizer=regularizers.l2(0.002))(x)\n",
    "x = layers.Dropout(0.5)(x)\n",
    "outputs = layers.Dense(1, activation='sigmoid', kernel_regularizer=regularizers.l2(0.002))(x)\n",
    "\n",
    "model = models.Model(inputs, outputs)\n",
    "model.compile(optimizer=Adam(learning_rate=1e-4),\n",
    "              loss='binary_crossentropy',\n",
    "              metrics=['accuracy'])\n",
    "\n",
    "# Train the model\n",
    "history = model.fit(\n",
    "    train_generator,  # Assuming train_ds is the dataset\n",
    "    validation_data=val_generator,  # Assuming val_ds is the validation dataset\n",
    "    epochs=200,\n",
    "    callbacks=[early_stop, lr_schedule],\n",
    ")\n",
    "\n",
    "# Plot Accuracy & Loss\n",
    "plt.figure(figsize=(12,5))\n",
    "plt.subplot(1, 2, 1)\n",
    "plt.plot(history.history['accuracy'], label='train acc')\n",
    "plt.plot(history.history['val_accuracy'], label='val acc')\n",
    "plt.title('Accuracy')\n",
    "plt.xlabel('Epochs')\n",
    "plt.ylabel('Accuracy')\n",
    "plt.legend()\n",
    "\n",
    "plt.subplot(1, 2, 2)\n",
    "plt.plot(history.history['loss'], label='train loss')\n",
    "plt.plot(history.history['val_loss'], label='val loss')\n",
    "plt.title('Loss')\n",
    "plt.xlabel('Epochs')\n",
    "plt.ylabel('Loss')\n",
    "plt.legend()\n",
    "plt.tight_layout()\n",
    "plt.show()\n"
   ]
  },
  {
   "cell_type": "code",
   "execution_count": null,
   "id": "bb161a17-dbe7-4333-8cf6-935582666cb7",
   "metadata": {
    "execution": {
     "iopub.execute_input": "2025-04-24T02:46:01.472351Z",
     "iopub.status.busy": "2025-04-24T02:46:01.472135Z",
     "iopub.status.idle": "2025-04-24T02:46:01.781697Z",
     "shell.execute_reply": "2025-04-24T02:46:01.781189Z",
     "shell.execute_reply.started": "2025-04-24T02:46:01.472349Z"
    }
   },
   "outputs": [
    {
     "name": "stderr",
     "output_type": "stream",
     "text": [
      "/usr/local/lib/python3.11/dist-packages/keras/src/engine/training.py:3103: UserWarning: You are saving your model as an HDF5 file via `model.save()`. This file format is considered legacy. We recommend using instead the native Keras format, e.g. `model.save('my_model.keras')`.\n",
      "  saving_api.save_model(\n"
     ]
    }
   ],
   "source": [
    "model.save('MobileNetV2_Full.h5')"
   ]
  },
  {
   "cell_type": "code",
   "execution_count": 8,
   "id": "76be0633-dc9b-4734-a396-df50405742a7",
   "metadata": {
    "execution": {
     "iopub.execute_input": "2025-04-24T02:46:01.782447Z",
     "iopub.status.busy": "2025-04-24T02:46:01.782314Z",
     "iopub.status.idle": "2025-04-24T02:46:01.858578Z",
     "shell.execute_reply": "2025-04-24T02:46:01.858079Z",
     "shell.execute_reply.started": "2025-04-24T02:46:01.782432Z"
    }
   },
   "outputs": [],
   "source": [
    "model.save_weights('MobileNetV2_Full_weight.h5')"
   ]
  }
 ],
 "metadata": {
  "kernelspec": {
   "display_name": "py310",
   "language": "python",
   "name": "python3"
  },
  "language_info": {
   "codemirror_mode": {
    "name": "ipython",
    "version": 3
   },
   "file_extension": ".py",
   "mimetype": "text/x-python",
   "name": "python",
   "nbconvert_exporter": "python",
   "pygments_lexer": "ipython3",
   "version": "3.10.16"
  }
 },
 "nbformat": 4,
 "nbformat_minor": 5
}
