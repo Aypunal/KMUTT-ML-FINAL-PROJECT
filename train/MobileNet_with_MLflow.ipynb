{
  "cells": [
    {
      "cell_type": "code",
      "source": [
        "from google.colab import drive\n",
        "drive.mount('/content/drive')"
      ],
      "metadata": {
        "id": "qT0Q-LltlSu_",
        "outputId": "307a09af-9f1a-4362-a35c-68cb84aeac32",
        "colab": {
          "base_uri": "https://localhost:8080/"
        }
      },
      "id": "qT0Q-LltlSu_",
      "execution_count": null,
      "outputs": [
        {
          "output_type": "stream",
          "name": "stdout",
          "text": [
            "Mounted at /content/drive\n"
          ]
        }
      ]
    },
    {
      "cell_type": "code",
      "execution_count": 6,
      "id": "9fba8a32-8cef-41b8-8355-ec87cb6ab368",
      "metadata": {
        "execution": {
          "iopub.execute_input": "2025-04-23T21:18:20.117966Z",
          "iopub.status.busy": "2025-04-23T21:18:20.117427Z",
          "iopub.status.idle": "2025-04-23T21:18:27.710150Z",
          "shell.execute_reply": "2025-04-23T21:18:27.709616Z",
          "shell.execute_reply.started": "2025-04-23T21:18:20.117946Z"
        },
        "id": "9fba8a32-8cef-41b8-8355-ec87cb6ab368"
      },
      "outputs": [],
      "source": [
        "import os\n",
        "import pandas as pd\n",
        "import tensorflow as tf\n",
        "from tensorflow.keras.preprocessing.image import ImageDataGenerator\n",
        "from sklearn.model_selection import train_test_split\n",
        "\n",
        "# โหลด dataset แรก (จากไฟล์ CSV)\n",
        "# df = pd.read_csv(r'F:\\Thai_speech\\Web-Application-For-AI-Generated-Image-Detection\\train.csv')  # 1st dataset\n",
        "# df[\"filepath\"] = df[\"file_name\"].apply(lambda x: os.path.join(r\"F:\\Thai_speech\\Web-Application-For-AI-Generated-Image-Detection\\train_data\", x.split(\"train_data/\")[-1]))\n",
        "\n",
        "\n",
        "# โหลด dataset ที่สอง (จากโฟลเดอร์ FAKE และ REAL)\n",
        "fake_folder = 'ai_images'\n",
        "real_folder = 'real_images'\n",
        "\n",
        "fake_images = [os.path.join(fake_folder, f) for f in os.listdir(fake_folder)]\n",
        "real_images = [os.path.join(real_folder, f) for f in os.listdir(real_folder)]\n",
        "\n",
        "fake_labels = ['FAKE'] * len(fake_images)\n",
        "real_labels = ['REAL'] * len(real_images)\n",
        "\n",
        "\n",
        "df_combined = pd.DataFrame({\n",
        "    'filepath': fake_images + real_images,\n",
        "    'label': fake_labels + real_labels\n",
        "})\n",
        "\n",
        "# combine dataset\n",
        "# df_combined = pd.concat([df, df], ignore_index=True)\n",
        "# df_combined = df_combined.drop(columns=['Unnamed: 0','file_name'], errors='ignore')\n",
        "\n"
      ]
    },
    {
      "cell_type": "code",
      "execution_count": 7,
      "id": "9e272d79-cc56-402b-b02d-b094ff232e45",
      "metadata": {
        "execution": {
          "iopub.execute_input": "2025-04-23T21:18:27.711434Z",
          "iopub.status.busy": "2025-04-23T21:18:27.711258Z",
          "iopub.status.idle": "2025-04-23T21:18:27.733946Z",
          "shell.execute_reply": "2025-04-23T21:18:27.733529Z",
          "shell.execute_reply.started": "2025-04-23T21:18:27.711419Z"
        },
        "id": "9e272d79-cc56-402b-b02d-b094ff232e45",
        "outputId": "4e5ea4f4-2731-4959-c092-a0129524ce40",
        "colab": {
          "base_uri": "https://localhost:8080/",
          "height": 196
        }
      },
      "outputs": [
        {
          "output_type": "stream",
          "name": "stdout",
          "text": [
            "['FAKE' 'REAL']\n"
          ]
        },
        {
          "output_type": "execute_result",
          "data": {
            "text/plain": [
              "label\n",
              "FAKE    30\n",
              "REAL    29\n",
              "Name: count, dtype: int64"
            ],
            "text/html": [
              "<div>\n",
              "<style scoped>\n",
              "    .dataframe tbody tr th:only-of-type {\n",
              "        vertical-align: middle;\n",
              "    }\n",
              "\n",
              "    .dataframe tbody tr th {\n",
              "        vertical-align: top;\n",
              "    }\n",
              "\n",
              "    .dataframe thead th {\n",
              "        text-align: right;\n",
              "    }\n",
              "</style>\n",
              "<table border=\"1\" class=\"dataframe\">\n",
              "  <thead>\n",
              "    <tr style=\"text-align: right;\">\n",
              "      <th></th>\n",
              "      <th>count</th>\n",
              "    </tr>\n",
              "    <tr>\n",
              "      <th>label</th>\n",
              "      <th></th>\n",
              "    </tr>\n",
              "  </thead>\n",
              "  <tbody>\n",
              "    <tr>\n",
              "      <th>FAKE</th>\n",
              "      <td>30</td>\n",
              "    </tr>\n",
              "    <tr>\n",
              "      <th>REAL</th>\n",
              "      <td>29</td>\n",
              "    </tr>\n",
              "  </tbody>\n",
              "</table>\n",
              "</div><br><label><b>dtype:</b> int64</label>"
            ]
          },
          "metadata": {},
          "execution_count": 7
        }
      ],
      "source": [
        "# transform label from 0, 1, 'REAL', 'FAKE' to 'REAL' และ 'FAKE'\n",
        "df_combined['label'] = df_combined['label'].map({\n",
        "    0: 'REAL',\n",
        "    1: 'FAKE',\n",
        "    'REAL': 'REAL',\n",
        "    'FAKE': 'FAKE'\n",
        "})\n",
        "\n",
        "\n",
        "print(df_combined['label'].unique())  #['REAL' 'FAKE']\n",
        "df_combined.label.value_counts()"
      ]
    },
    {
      "cell_type": "code",
      "execution_count": 8,
      "id": "b7e0f810",
      "metadata": {
        "id": "b7e0f810",
        "outputId": "be9618ce-a274-4417-b3c2-287ddb80bd6a",
        "colab": {
          "base_uri": "https://localhost:8080/"
        }
      },
      "outputs": [
        {
          "output_type": "stream",
          "name": "stdout",
          "text": [
            "Found 23 validated image filenames belonging to 1 classes.\n",
            "Found 6 validated image filenames belonging to 1 classes.\n"
          ]
        },
        {
          "output_type": "stream",
          "name": "stderr",
          "text": [
            "/usr/local/lib/python3.11/dist-packages/keras/src/legacy/preprocessing/image.py:920: UserWarning: Found 24 invalid image filename(s) in x_col=\"filepath\". These filename(s) will be ignored.\n",
            "  warnings.warn(\n",
            "/usr/local/lib/python3.11/dist-packages/keras/src/legacy/preprocessing/image.py:920: UserWarning: Found 6 invalid image filename(s) in x_col=\"filepath\". These filename(s) will be ignored.\n",
            "  warnings.warn(\n"
          ]
        }
      ],
      "source": [
        "train_df, val_df = train_test_split(df_combined, test_size=0.2, random_state=42)\n",
        "datagen = ImageDataGenerator(\n",
        "    rescale=1./255,\n",
        "    rotation_range=40,\n",
        "    width_shift_range=0.2,\n",
        "    height_shift_range=0.2,\n",
        "    shear_range=0.2,\n",
        "    zoom_range=0.2,\n",
        "    horizontal_flip=True,\n",
        "    fill_mode='nearest'\n",
        ")\n",
        "\n",
        "train_generator = datagen.flow_from_dataframe(\n",
        "    dataframe=train_df,\n",
        "    x_col='filepath',\n",
        "    y_col='label',\n",
        "    target_size=(224, 224),\n",
        "    batch_size=32, # ajustable (better gpu > 64)\n",
        "    class_mode='binary'\n",
        ")\n",
        "\n",
        "# validation\n",
        "val_generator = datagen.flow_from_dataframe(\n",
        "    dataframe=val_df,\n",
        "    x_col='filepath',\n",
        "    y_col='label',\n",
        "    target_size=(224, 224),\n",
        "    batch_size=32, # ajustable (better gpu > 64)\n",
        "    class_mode='binary'\n",
        ")"
      ]
    },
    {
      "cell_type": "code",
      "execution_count": 9,
      "id": "9856b2c9-b3e2-4113-a59d-6aa6078235c0",
      "metadata": {
        "execution": {
          "iopub.execute_input": "2025-04-23T21:19:04.526040Z",
          "iopub.status.busy": "2025-04-23T21:19:04.525884Z",
          "iopub.status.idle": "2025-04-23T21:19:04.770133Z",
          "shell.execute_reply": "2025-04-23T21:19:04.769599Z",
          "shell.execute_reply.started": "2025-04-23T21:19:04.526025Z"
        },
        "id": "9856b2c9-b3e2-4113-a59d-6aa6078235c0",
        "outputId": "783bf53c-7ef4-4ce5-8add-26a0bc237ef8",
        "colab": {
          "base_uri": "https://localhost:8080/"
        }
      },
      "outputs": [
        {
          "output_type": "stream",
          "name": "stdout",
          "text": [
            "Num GPUs Available:  0\n"
          ]
        }
      ],
      "source": [
        "import tensorflow as tf\n",
        "print(\"Num GPUs Available: \", len(tf.config.list_physical_devices('GPU'))) # check gpu available\n"
      ]
    },
    {
      "cell_type": "code",
      "execution_count": 10,
      "id": "0f51420c-6fb8-4eaf-9cb7-71ff811df5e6",
      "metadata": {
        "execution": {
          "iopub.execute_input": "2025-04-23T21:19:04.771924Z",
          "iopub.status.busy": "2025-04-23T21:19:04.771756Z",
          "iopub.status.idle": "2025-04-23T21:19:04.776141Z",
          "shell.execute_reply": "2025-04-23T21:19:04.775648Z",
          "shell.execute_reply.started": "2025-04-23T21:19:04.771909Z"
        },
        "id": "0f51420c-6fb8-4eaf-9cb7-71ff811df5e6"
      },
      "outputs": [],
      "source": [
        "from tensorflow.keras import mixed_precision\n",
        "\n",
        "policy = mixed_precision.Policy('mixed_float16') # reduce calculation size from float32 to 16\n",
        "mixed_precision.set_global_policy(policy)\n"
      ]
    },
    {
      "cell_type": "code",
      "source": [
        "!pip install mlflow"
      ],
      "metadata": {
        "colab": {
          "base_uri": "https://localhost:8080/"
        },
        "id": "PZKJRYqLnIAz",
        "outputId": "4ca0dc1d-c61d-4743-f992-5fa568dc8c68"
      },
      "id": "PZKJRYqLnIAz",
      "execution_count": 11,
      "outputs": [
        {
          "output_type": "stream",
          "name": "stdout",
          "text": [
            "Requirement already satisfied: mlflow in /usr/local/lib/python3.11/dist-packages (2.22.0)\n",
            "Requirement already satisfied: mlflow-skinny==2.22.0 in /usr/local/lib/python3.11/dist-packages (from mlflow) (2.22.0)\n",
            "Requirement already satisfied: Flask<4 in /usr/local/lib/python3.11/dist-packages (from mlflow) (3.1.1)\n",
            "Requirement already satisfied: Jinja2<4,>=2.11 in /usr/local/lib/python3.11/dist-packages (from mlflow) (3.1.6)\n",
            "Requirement already satisfied: alembic!=1.10.0,<2 in /usr/local/lib/python3.11/dist-packages (from mlflow) (1.16.1)\n",
            "Requirement already satisfied: docker<8,>=4.0.0 in /usr/local/lib/python3.11/dist-packages (from mlflow) (7.1.0)\n",
            "Requirement already satisfied: graphene<4 in /usr/local/lib/python3.11/dist-packages (from mlflow) (3.4.3)\n",
            "Requirement already satisfied: gunicorn<24 in /usr/local/lib/python3.11/dist-packages (from mlflow) (23.0.0)\n",
            "Requirement already satisfied: markdown<4,>=3.3 in /usr/local/lib/python3.11/dist-packages (from mlflow) (3.8)\n",
            "Requirement already satisfied: matplotlib<4 in /usr/local/lib/python3.11/dist-packages (from mlflow) (3.10.0)\n",
            "Requirement already satisfied: numpy<3 in /usr/local/lib/python3.11/dist-packages (from mlflow) (2.0.2)\n",
            "Requirement already satisfied: pandas<3 in /usr/local/lib/python3.11/dist-packages (from mlflow) (2.2.2)\n",
            "Requirement already satisfied: pyarrow<20,>=4.0.0 in /usr/local/lib/python3.11/dist-packages (from mlflow) (18.1.0)\n",
            "Requirement already satisfied: scikit-learn<2 in /usr/local/lib/python3.11/dist-packages (from mlflow) (1.6.1)\n",
            "Requirement already satisfied: scipy<2 in /usr/local/lib/python3.11/dist-packages (from mlflow) (1.15.3)\n",
            "Requirement already satisfied: sqlalchemy<3,>=1.4.0 in /usr/local/lib/python3.11/dist-packages (from mlflow) (2.0.40)\n",
            "Requirement already satisfied: cachetools<6,>=5.0.0 in /usr/local/lib/python3.11/dist-packages (from mlflow-skinny==2.22.0->mlflow) (5.5.2)\n",
            "Requirement already satisfied: click<9,>=7.0 in /usr/local/lib/python3.11/dist-packages (from mlflow-skinny==2.22.0->mlflow) (8.2.0)\n",
            "Requirement already satisfied: cloudpickle<4 in /usr/local/lib/python3.11/dist-packages (from mlflow-skinny==2.22.0->mlflow) (3.1.1)\n",
            "Requirement already satisfied: databricks-sdk<1,>=0.20.0 in /usr/local/lib/python3.11/dist-packages (from mlflow-skinny==2.22.0->mlflow) (0.54.0)\n",
            "Requirement already satisfied: fastapi<1 in /usr/local/lib/python3.11/dist-packages (from mlflow-skinny==2.22.0->mlflow) (0.115.12)\n",
            "Requirement already satisfied: gitpython<4,>=3.1.9 in /usr/local/lib/python3.11/dist-packages (from mlflow-skinny==2.22.0->mlflow) (3.1.44)\n",
            "Requirement already satisfied: importlib_metadata!=4.7.0,<9,>=3.7.0 in /usr/local/lib/python3.11/dist-packages (from mlflow-skinny==2.22.0->mlflow) (8.6.1)\n",
            "Requirement already satisfied: opentelemetry-api<3,>=1.9.0 in /usr/local/lib/python3.11/dist-packages (from mlflow-skinny==2.22.0->mlflow) (1.33.1)\n",
            "Requirement already satisfied: opentelemetry-sdk<3,>=1.9.0 in /usr/local/lib/python3.11/dist-packages (from mlflow-skinny==2.22.0->mlflow) (1.33.1)\n",
            "Requirement already satisfied: packaging<25 in /usr/local/lib/python3.11/dist-packages (from mlflow-skinny==2.22.0->mlflow) (24.2)\n",
            "Requirement already satisfied: protobuf<7,>=3.12.0 in /usr/local/lib/python3.11/dist-packages (from mlflow-skinny==2.22.0->mlflow) (5.29.4)\n",
            "Requirement already satisfied: pydantic<3,>=1.10.8 in /usr/local/lib/python3.11/dist-packages (from mlflow-skinny==2.22.0->mlflow) (2.11.4)\n",
            "Requirement already satisfied: pyyaml<7,>=5.1 in /usr/local/lib/python3.11/dist-packages (from mlflow-skinny==2.22.0->mlflow) (6.0.2)\n",
            "Requirement already satisfied: requests<3,>=2.17.3 in /usr/local/lib/python3.11/dist-packages (from mlflow-skinny==2.22.0->mlflow) (2.32.3)\n",
            "Requirement already satisfied: sqlparse<1,>=0.4.0 in /usr/local/lib/python3.11/dist-packages (from mlflow-skinny==2.22.0->mlflow) (0.5.3)\n",
            "Requirement already satisfied: typing-extensions<5,>=4.0.0 in /usr/local/lib/python3.11/dist-packages (from mlflow-skinny==2.22.0->mlflow) (4.13.2)\n",
            "Requirement already satisfied: uvicorn<1 in /usr/local/lib/python3.11/dist-packages (from mlflow-skinny==2.22.0->mlflow) (0.34.2)\n",
            "Requirement already satisfied: Mako in /usr/lib/python3/dist-packages (from alembic!=1.10.0,<2->mlflow) (1.1.3)\n",
            "Requirement already satisfied: urllib3>=1.26.0 in /usr/local/lib/python3.11/dist-packages (from docker<8,>=4.0.0->mlflow) (2.4.0)\n",
            "Requirement already satisfied: blinker>=1.9.0 in /usr/local/lib/python3.11/dist-packages (from Flask<4->mlflow) (1.9.0)\n",
            "Requirement already satisfied: itsdangerous>=2.2.0 in /usr/local/lib/python3.11/dist-packages (from Flask<4->mlflow) (2.2.0)\n",
            "Requirement already satisfied: markupsafe>=2.1.1 in /usr/local/lib/python3.11/dist-packages (from Flask<4->mlflow) (3.0.2)\n",
            "Requirement already satisfied: werkzeug>=3.1.0 in /usr/local/lib/python3.11/dist-packages (from Flask<4->mlflow) (3.1.3)\n",
            "Requirement already satisfied: graphql-core<3.3,>=3.1 in /usr/local/lib/python3.11/dist-packages (from graphene<4->mlflow) (3.2.6)\n",
            "Requirement already satisfied: graphql-relay<3.3,>=3.1 in /usr/local/lib/python3.11/dist-packages (from graphene<4->mlflow) (3.2.0)\n",
            "Requirement already satisfied: python-dateutil<3,>=2.7.0 in /usr/local/lib/python3.11/dist-packages (from graphene<4->mlflow) (2.9.0.post0)\n",
            "Requirement already satisfied: contourpy>=1.0.1 in /usr/local/lib/python3.11/dist-packages (from matplotlib<4->mlflow) (1.3.2)\n",
            "Requirement already satisfied: cycler>=0.10 in /usr/local/lib/python3.11/dist-packages (from matplotlib<4->mlflow) (0.12.1)\n",
            "Requirement already satisfied: fonttools>=4.22.0 in /usr/local/lib/python3.11/dist-packages (from matplotlib<4->mlflow) (4.58.0)\n",
            "Requirement already satisfied: kiwisolver>=1.3.1 in /usr/local/lib/python3.11/dist-packages (from matplotlib<4->mlflow) (1.4.8)\n",
            "Requirement already satisfied: pillow>=8 in /usr/local/lib/python3.11/dist-packages (from matplotlib<4->mlflow) (11.2.1)\n",
            "Requirement already satisfied: pyparsing>=2.3.1 in /usr/local/lib/python3.11/dist-packages (from matplotlib<4->mlflow) (3.2.3)\n",
            "Requirement already satisfied: pytz>=2020.1 in /usr/local/lib/python3.11/dist-packages (from pandas<3->mlflow) (2025.2)\n",
            "Requirement already satisfied: tzdata>=2022.7 in /usr/local/lib/python3.11/dist-packages (from pandas<3->mlflow) (2025.2)\n",
            "Requirement already satisfied: joblib>=1.2.0 in /usr/local/lib/python3.11/dist-packages (from scikit-learn<2->mlflow) (1.5.0)\n",
            "Requirement already satisfied: threadpoolctl>=3.1.0 in /usr/local/lib/python3.11/dist-packages (from scikit-learn<2->mlflow) (3.6.0)\n",
            "Requirement already satisfied: greenlet>=1 in /usr/local/lib/python3.11/dist-packages (from sqlalchemy<3,>=1.4.0->mlflow) (3.2.2)\n",
            "Requirement already satisfied: google-auth~=2.0 in /usr/local/lib/python3.11/dist-packages (from databricks-sdk<1,>=0.20.0->mlflow-skinny==2.22.0->mlflow) (2.38.0)\n",
            "Requirement already satisfied: starlette<0.47.0,>=0.40.0 in /usr/local/lib/python3.11/dist-packages (from fastapi<1->mlflow-skinny==2.22.0->mlflow) (0.46.2)\n",
            "Requirement already satisfied: gitdb<5,>=4.0.1 in /usr/local/lib/python3.11/dist-packages (from gitpython<4,>=3.1.9->mlflow-skinny==2.22.0->mlflow) (4.0.12)\n",
            "Requirement already satisfied: zipp>=3.20 in /usr/local/lib/python3.11/dist-packages (from importlib_metadata!=4.7.0,<9,>=3.7.0->mlflow-skinny==2.22.0->mlflow) (3.21.0)\n",
            "Requirement already satisfied: deprecated>=1.2.6 in /usr/local/lib/python3.11/dist-packages (from opentelemetry-api<3,>=1.9.0->mlflow-skinny==2.22.0->mlflow) (1.2.18)\n",
            "Requirement already satisfied: opentelemetry-semantic-conventions==0.54b1 in /usr/local/lib/python3.11/dist-packages (from opentelemetry-sdk<3,>=1.9.0->mlflow-skinny==2.22.0->mlflow) (0.54b1)\n",
            "Requirement already satisfied: annotated-types>=0.6.0 in /usr/local/lib/python3.11/dist-packages (from pydantic<3,>=1.10.8->mlflow-skinny==2.22.0->mlflow) (0.7.0)\n",
            "Requirement already satisfied: pydantic-core==2.33.2 in /usr/local/lib/python3.11/dist-packages (from pydantic<3,>=1.10.8->mlflow-skinny==2.22.0->mlflow) (2.33.2)\n",
            "Requirement already satisfied: typing-inspection>=0.4.0 in /usr/local/lib/python3.11/dist-packages (from pydantic<3,>=1.10.8->mlflow-skinny==2.22.0->mlflow) (0.4.0)\n",
            "Requirement already satisfied: six>=1.5 in /usr/local/lib/python3.11/dist-packages (from python-dateutil<3,>=2.7.0->graphene<4->mlflow) (1.17.0)\n",
            "Requirement already satisfied: charset-normalizer<4,>=2 in /usr/local/lib/python3.11/dist-packages (from requests<3,>=2.17.3->mlflow-skinny==2.22.0->mlflow) (3.4.2)\n",
            "Requirement already satisfied: idna<4,>=2.5 in /usr/local/lib/python3.11/dist-packages (from requests<3,>=2.17.3->mlflow-skinny==2.22.0->mlflow) (3.10)\n",
            "Requirement already satisfied: certifi>=2017.4.17 in /usr/local/lib/python3.11/dist-packages (from requests<3,>=2.17.3->mlflow-skinny==2.22.0->mlflow) (2025.4.26)\n",
            "Requirement already satisfied: h11>=0.8 in /usr/local/lib/python3.11/dist-packages (from uvicorn<1->mlflow-skinny==2.22.0->mlflow) (0.16.0)\n",
            "Requirement already satisfied: wrapt<2,>=1.10 in /usr/local/lib/python3.11/dist-packages (from deprecated>=1.2.6->opentelemetry-api<3,>=1.9.0->mlflow-skinny==2.22.0->mlflow) (1.17.2)\n",
            "Requirement already satisfied: smmap<6,>=3.0.1 in /usr/local/lib/python3.11/dist-packages (from gitdb<5,>=4.0.1->gitpython<4,>=3.1.9->mlflow-skinny==2.22.0->mlflow) (5.0.2)\n",
            "Requirement already satisfied: pyasn1-modules>=0.2.1 in /usr/local/lib/python3.11/dist-packages (from google-auth~=2.0->databricks-sdk<1,>=0.20.0->mlflow-skinny==2.22.0->mlflow) (0.4.2)\n",
            "Requirement already satisfied: rsa<5,>=3.1.4 in /usr/local/lib/python3.11/dist-packages (from google-auth~=2.0->databricks-sdk<1,>=0.20.0->mlflow-skinny==2.22.0->mlflow) (4.9.1)\n",
            "Requirement already satisfied: anyio<5,>=3.6.2 in /usr/local/lib/python3.11/dist-packages (from starlette<0.47.0,>=0.40.0->fastapi<1->mlflow-skinny==2.22.0->mlflow) (4.9.0)\n",
            "Requirement already satisfied: sniffio>=1.1 in /usr/local/lib/python3.11/dist-packages (from anyio<5,>=3.6.2->starlette<0.47.0,>=0.40.0->fastapi<1->mlflow-skinny==2.22.0->mlflow) (1.3.1)\n",
            "Requirement already satisfied: pyasn1<0.7.0,>=0.6.1 in /usr/local/lib/python3.11/dist-packages (from pyasn1-modules>=0.2.1->google-auth~=2.0->databricks-sdk<1,>=0.20.0->mlflow-skinny==2.22.0->mlflow) (0.6.1)\n",
            "Traceback (most recent call last):\n",
            "  File \"/usr/local/lib/python3.11/dist-packages/pip/_internal/cli/base_command.py\", line 179, in exc_logging_wrapper\n",
            "    status = run_func(*args)\n",
            "             ^^^^^^^^^^^^^^^\n",
            "  File \"/usr/local/lib/python3.11/dist-packages/pip/_internal/cli/req_command.py\", line 67, in wrapper\n",
            "    return func(self, options, args)\n",
            "           ^^^^^^^^^^^^^^^^^^^^^^^^^\n",
            "  File \"/usr/local/lib/python3.11/dist-packages/pip/_internal/commands/install.py\", line 447, in run\n",
            "    conflicts = self._determine_conflicts(to_install)\n",
            "                ^^^^^^^^^^^^^^^^^^^^^^^^^^^^^^^^^^^^^\n",
            "  File \"/usr/local/lib/python3.11/dist-packages/pip/_internal/commands/install.py\", line 578, in _determine_conflicts\n",
            "    return check_install_conflicts(to_install)\n",
            "           ^^^^^^^^^^^^^^^^^^^^^^^^^^^^^^^^^^^\n",
            "  File \"/usr/local/lib/python3.11/dist-packages/pip/_internal/operations/check.py\", line 101, in check_install_conflicts\n",
            "    package_set, _ = create_package_set_from_installed()\n",
            "                     ^^^^^^^^^^^^^^^^^^^^^^^^^^^^^^^^^^^\n",
            "  File \"/usr/local/lib/python3.11/dist-packages/pip/_internal/operations/check.py\", line 43, in create_package_set_from_installed\n",
            "    package_set[name] = PackageDetails(dist.version, dependencies)\n",
            "                                       ^^^^^^^^^^^^\n",
            "  File \"/usr/local/lib/python3.11/dist-packages/pip/_internal/metadata/importlib/_dists.py\", line 173, in version\n",
            "    @property\n",
            "\n",
            "KeyboardInterrupt\n",
            "\n",
            "During handling of the above exception, another exception occurred:\n",
            "\n",
            "Traceback (most recent call last):\n",
            "  File \"/usr/lib/python3.11/logging/__init__.py\", line 1742, in isEnabledFor\n",
            "    return self._cache[level]\n",
            "           ~~~~~~~~~~~^^^^^^^\n",
            "KeyError: 50\n",
            "\n",
            "During handling of the above exception, another exception occurred:\n",
            "\n",
            "Traceback (most recent call last):\n",
            "  File \"/usr/local/bin/pip3\", line 10, in <module>\n",
            "    sys.exit(main())\n",
            "             ^^^^^^\n",
            "  File \"/usr/local/lib/python3.11/dist-packages/pip/_internal/cli/main.py\", line 80, in main\n",
            "    return command.main(cmd_args)\n",
            "           ^^^^^^^^^^^^^^^^^^^^^^\n",
            "  File \"/usr/local/lib/python3.11/dist-packages/pip/_internal/cli/base_command.py\", line 100, in main\n",
            "    return self._main(args)\n",
            "           ^^^^^^^^^^^^^^^^\n",
            "  File \"/usr/local/lib/python3.11/dist-packages/pip/_internal/cli/base_command.py\", line 232, in _main\n",
            "    return run(options, args)\n",
            "           ^^^^^^^^^^^^^^^^^^\n",
            "  File \"/usr/local/lib/python3.11/dist-packages/pip/_internal/cli/base_command.py\", line 215, in exc_logging_wrapper\n",
            "    logger.critical(\"Operation cancelled by user\")\n",
            "  File \"/usr/lib/python3.11/logging/__init__.py\", line 1535, in critical\n",
            "    if self.isEnabledFor(CRITICAL):\n",
            "       ^^^^^^^^^^^^^^^^^^^^^^^^^^^\n",
            "  File \"/usr/lib/python3.11/logging/__init__.py\", line 1744, in isEnabledFor\n",
            "    _acquireLock()\n",
            "  File \"/usr/lib/python3.11/logging/__init__.py\", line 235, in _acquireLock\n",
            "    _lock.acquire()\n",
            "KeyboardInterrupt\n",
            "^C\n"
          ]
        }
      ]
    },
    {
      "cell_type": "code",
      "execution_count": 20,
      "id": "7bd9add1",
      "metadata": {
        "id": "7bd9add1",
        "colab": {
          "base_uri": "https://localhost:8080/"
        },
        "outputId": "4c0fb56d-c2af-4ef4-be75-ec0e11ccaad2"
      },
      "outputs": [
        {
          "output_type": "stream",
          "name": "stderr",
          "text": [
            "2025/05/26 12:54:32 INFO mlflow.tracking.fluent: Experiment with name 'MobileNet-ImageClassification' does not exist. Creating a new experiment.\n"
          ]
        },
        {
          "output_type": "execute_result",
          "data": {
            "text/plain": [
              "<ActiveRun: >"
            ]
          },
          "metadata": {},
          "execution_count": 20
        }
      ],
      "source": [
        "import mlflow\n",
        "import mlflow.keras\n",
        "mlflow.set_tracking_uri(\"http://37.187.200.200:8080\")\n",
        "\n",
        "mlflow.set_experiment(\"MobileNet-ImageClassification\")\n",
        "\n",
        "\n",
        "# Start MLflow run\n",
        "mlflow.start_run()\n"
      ]
    },
    {
      "cell_type": "code",
      "execution_count": 21,
      "id": "beb068bf",
      "metadata": {
        "id": "beb068bf",
        "colab": {
          "base_uri": "https://localhost:8080/"
        },
        "outputId": "a16b5fa1-7e9e-481b-e9e8-a40cfa4a0481"
      },
      "outputs": [
        {
          "output_type": "execute_result",
          "data": {
            "text/plain": [
              "3"
            ]
          },
          "metadata": {},
          "execution_count": 21
        }
      ],
      "source": [
        "\n",
        "# Example parameters to log (update as needed)\n",
        "mlflow.log_param(\"optimizer\", \"adam\")\n",
        "mlflow.log_param(\"learning_rate\", 0.001)\n",
        "mlflow.log_param(\"epochs\", 3)  # For demonstration purposes\n"
      ]
    },
    {
      "cell_type": "code",
      "execution_count": 22,
      "id": "516abd81-9c56-4d05-acae-ad3b24abff92",
      "metadata": {
        "execution": {
          "iopub.execute_input": "2025-04-23T21:19:04.776888Z",
          "iopub.status.busy": "2025-04-23T21:19:04.776748Z",
          "iopub.status.idle": "2025-04-24T02:46:01.451572Z",
          "shell.execute_reply": "2025-04-24T02:46:01.450471Z",
          "shell.execute_reply.started": "2025-04-23T21:19:04.776874Z"
        },
        "id": "516abd81-9c56-4d05-acae-ad3b24abff92",
        "colab": {
          "base_uri": "https://localhost:8080/",
          "height": 631
        },
        "outputId": "9d001f48-adff-4792-b79e-5c1193fccee8"
      },
      "outputs": [
        {
          "output_type": "stream",
          "name": "stdout",
          "text": [
            "Epoch 1/5\n",
            "\u001b[1m1/1\u001b[0m \u001b[32m━━━━━━━━━━━━━━━━━━━━\u001b[0m\u001b[37m\u001b[0m \u001b[1m23s\u001b[0m 23s/step - accuracy: 0.5217 - loss: 1.7324 - val_accuracy: 1.0000 - val_loss: 1.2826 - learning_rate: 1.0000e-04\n",
            "Epoch 2/5\n",
            "\u001b[1m1/1\u001b[0m \u001b[32m━━━━━━━━━━━━━━━━━━━━\u001b[0m\u001b[37m\u001b[0m \u001b[1m8s\u001b[0m 8s/step - accuracy: 0.8696 - loss: 1.3052 - val_accuracy: 1.0000 - val_loss: 1.1715 - learning_rate: 1.0000e-04\n",
            "Epoch 3/5\n",
            "\u001b[1m1/1\u001b[0m \u001b[32m━━━━━━━━━━━━━━━━━━━━\u001b[0m\u001b[37m\u001b[0m \u001b[1m10s\u001b[0m 10s/step - accuracy: 0.9565 - loss: 1.0822 - val_accuracy: 1.0000 - val_loss: 1.0690 - learning_rate: 1.0000e-04\n",
            "Epoch 4/5\n",
            "\u001b[1m1/1\u001b[0m \u001b[32m━━━━━━━━━━━━━━━━━━━━\u001b[0m\u001b[37m\u001b[0m \u001b[1m10s\u001b[0m 10s/step - accuracy: 1.0000 - loss: 1.0288 - val_accuracy: 1.0000 - val_loss: 0.9382 - learning_rate: 1.0000e-04\n",
            "Epoch 5/5\n",
            "\u001b[1m1/1\u001b[0m \u001b[32m━━━━━━━━━━━━━━━━━━━━\u001b[0m\u001b[37m\u001b[0m \u001b[1m9s\u001b[0m 9s/step - accuracy: 0.9565 - loss: 1.0634 - val_accuracy: 1.0000 - val_loss: 0.9090 - learning_rate: 1.0000e-04\n"
          ]
        },
        {
          "output_type": "display_data",
          "data": {
            "text/plain": [
              "<Figure size 1200x500 with 2 Axes>"
            ],
            "image/png": "[encoded data removed]"
          },
          "metadata": {}
        }
      ],
      "source": [
        "from tensorflow.keras.callbacks import ReduceLROnPlateau, EarlyStopping\n",
        "from tensorflow.keras.optimizers import Adam\n",
        "from tensorflow.keras import layers, models, regularizers\n",
        "from tensorflow.keras.applications import MobileNetV2\n",
        "import matplotlib.pyplot as plt\n",
        "from sklearn.metrics import classification_report, confusion_matrix, ConfusionMatrixDisplay\n",
        "\n",
        "# Callbacks\n",
        "lr_schedule = ReduceLROnPlateau(monitor='val_loss', factor=0.5, patience=5, verbose=1, min_lr=1e-6)\n",
        "early_stop = EarlyStopping(monitor='val_loss', patience=8, restore_best_weights=True)\n",
        "\n",
        "# Model using MobileNetV2\n",
        "base_model = MobileNetV2(\n",
        "    input_shape=(224, 224, 3),\n",
        "    include_top=False,               # Exclude the top layer as we will add our own classifier\n",
        "    weights='imagenet'               # Load pre-trained weights from ImageNet\n",
        ")\n",
        "\n",
        "base_model.trainable = False  # Freeze base model layers for transfer learning\n",
        "\n",
        "# Model architecture\n",
        "inputs = layers.Input(shape=(224, 224, 3))\n",
        "x = base_model(inputs)  # Apply MobileNetV2 as the base feature extractor\n",
        "x = layers.GlobalAveragePooling2D()(x)  # Global average pooling to reduce the output size\n",
        "x = layers.Dense(256, activation='relu', kernel_regularizer=regularizers.l2(0.002))(x)\n",
        "x = layers.Dropout(0.5)(x)\n",
        "outputs = layers.Dense(1, activation='sigmoid', kernel_regularizer=regularizers.l2(0.002))(x)\n",
        "\n",
        "model = models.Model(inputs, outputs)\n",
        "model.compile(optimizer=Adam(learning_rate=1e-4),\n",
        "              loss='binary_crossentropy',\n",
        "              metrics=['accuracy'])\n",
        "\n",
        "# Train the model\n",
        "history = model.fit(\n",
        "    train_generator,  # Assuming train_ds is the dataset\n",
        "    validation_data=val_generator,  # Assuming val_ds is the validation dataset\n",
        "    epochs=5,\n",
        "    callbacks=[early_stop, lr_schedule],\n",
        ")\n",
        "\n",
        "# Plot Accuracy & Loss\n",
        "plt.figure(figsize=(12,5))\n",
        "plt.subplot(1, 2, 1)\n",
        "plt.plot(history.history['accuracy'], label='train acc')\n",
        "plt.plot(history.history['val_accuracy'], label='val acc')\n",
        "plt.title('Accuracy')\n",
        "plt.xlabel('Epochs')\n",
        "plt.ylabel('Accuracy')\n",
        "plt.legend()\n",
        "\n",
        "plt.subplot(1, 2, 2)\n",
        "plt.plot(history.history['loss'], label='train loss')\n",
        "plt.plot(history.history['val_loss'], label='val loss')\n",
        "plt.title('Loss')\n",
        "plt.xlabel('Epochs')\n",
        "plt.ylabel('Loss')\n",
        "plt.legend()\n",
        "plt.tight_layout()\n",
        "plt.show()\n"
      ]
    },
    {
      "cell_type": "code",
      "execution_count": 23,
      "id": "fb4112d0",
      "metadata": {
        "id": "fb4112d0"
      },
      "outputs": [],
      "source": [
        "\n",
        "# Example logging of metrics after training\n",
        "mlflow.log_metric(\"final_accuracy\", history.history['accuracy'][-1])\n",
        "mlflow.log_metric(\"final_loss\", history.history['loss'][-1])\n"
      ]
    },
    {
      "cell_type": "code",
      "execution_count": 24,
      "id": "d515affa",
      "metadata": {
        "id": "d515affa",
        "colab": {
          "base_uri": "https://localhost:8080/"
        },
        "outputId": "79f2756d-0448-415a-d7fa-854eb5068650"
      },
      "outputs": [
        {
          "output_type": "stream",
          "name": "stderr",
          "text": [
            "2025/05/26 12:55:58 WARNING mlflow.keras.save: You are saving a Keras model without specifying model signature.\n",
            "\u001b[31m2025/05/26 12:56:12 WARNING mlflow.models.model: Model logged without a signature and input example. Please set `input_example` parameter when logging the model to auto infer the model signature.\u001b[0m\n"
          ]
        },
        {
          "output_type": "stream",
          "name": "stdout",
          "text": [
            "🏃 View run marvelous-horse-135 at: http://37.187.200.200:8080/#/experiments/1/runs/99dde54633d94531b458634277086085\n",
            "🧪 View experiment at: http://37.187.200.200:8080/#/experiments/1\n"
          ]
        }
      ],
      "source": [
        "\n",
        "# Optionally log model\n",
        "mlflow.keras.log_model(model, \"mobilenet_model\")\n",
        "\n",
        "# End MLflow run\n",
        "mlflow.end_run()\n"
      ]
    },
    {
      "cell_type": "code",
      "execution_count": null,
      "id": "857e6d5a",
      "metadata": {
        "id": "857e6d5a"
      },
      "outputs": [],
      "source": [
        "\n",
        "# # Evaluate the model on the validation set\n",
        "# y_true = []\n",
        "# y_pred = []\n",
        "\n",
        "# for images, labels in val_ds:\n",
        "#     preds = model.predict(images)\n",
        "#     preds = (preds > 0.5).astype(\"int32\")\n",
        "#     y_true.extend(labels.numpy())\n",
        "#     y_pred.extend(preds.flatten())\n",
        "\n",
        "# # Confusion Matrix\n",
        "# cm = confusion_matrix(y_true, y_pred)\n",
        "# disp = ConfusionMatrixDisplay(confusion_matrix=cm, display_labels=['Real', 'AI Generated'])\n",
        "# plt.figure(figsize=(6,6))\n",
        "# disp.plot(cmap='Blues', values_format='d')\n",
        "# plt.title('Confusion Matrix')\n",
        "# plt.show()\n",
        "\n",
        "# # Classification Report\n",
        "# print(\"\\nClassification Report:\")\n",
        "# print(classification_report(y_true, y_pred, target_names=['Real', 'AI Generated']))\n"
      ]
    },
    {
      "cell_type": "code",
      "execution_count": null,
      "id": "bb161a17-dbe7-4333-8cf6-935582666cb7",
      "metadata": {
        "execution": {
          "iopub.execute_input": "2025-04-24T02:46:01.472351Z",
          "iopub.status.busy": "2025-04-24T02:46:01.472135Z",
          "iopub.status.idle": "2025-04-24T02:46:01.781697Z",
          "shell.execute_reply": "2025-04-24T02:46:01.781189Z",
          "shell.execute_reply.started": "2025-04-24T02:46:01.472349Z"
        },
        "id": "bb161a17-dbe7-4333-8cf6-935582666cb7",
        "outputId": "dd39651e-4d7c-4d03-8c35-9a261ae8cc60"
      },
      "outputs": [
        {
          "name": "stderr",
          "output_type": "stream",
          "text": [
            "/usr/local/lib/python3.11/dist-packages/keras/src/engine/training.py:3103: UserWarning: You are saving your model as an HDF5 file via `model.save()`. This file format is considered legacy. We recommend using instead the native Keras format, e.g. `model.save('my_model.keras')`.\n",
            "  saving_api.save_model(\n"
          ]
        }
      ],
      "source": [
        "model.save('MobileNetV2_Full.h5')"
      ]
    },
    {
      "cell_type": "code",
      "execution_count": null,
      "id": "76be0633-dc9b-4734-a396-df50405742a7",
      "metadata": {
        "execution": {
          "iopub.execute_input": "2025-04-24T02:46:01.782447Z",
          "iopub.status.busy": "2025-04-24T02:46:01.782314Z",
          "iopub.status.idle": "2025-04-24T02:46:01.858578Z",
          "shell.execute_reply": "2025-04-24T02:46:01.858079Z",
          "shell.execute_reply.started": "2025-04-24T02:46:01.782432Z"
        },
        "id": "76be0633-dc9b-4734-a396-df50405742a7"
      },
      "outputs": [],
      "source": [
        "model.save_weights('MobileNetV2_Full_weight.h5')"
      ]
    }
  ],
  "metadata": {
    "kernelspec": {
      "display_name": "py310",
      "language": "python",
      "name": "python3"
    },
    "language_info": {
      "codemirror_mode": {
        "name": "ipython",
        "version": 3
      },
      "file_extension": ".py",
      "mimetype": "text/x-python",
      "name": "python",
      "nbconvert_exporter": "python",
      "pygments_lexer": "ipython3",
      "version": "3.10.16"
    },
    "colab": {
      "provenance": []
    }
  },
  "nbformat": 4,
  "nbformat_minor": 5
}